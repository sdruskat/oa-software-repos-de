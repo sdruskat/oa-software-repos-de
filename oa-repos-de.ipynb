{
 "cells": [
  {
   "cell_type": "markdown",
   "id": "997466c4-df37-4f83-b7e3-55b31ec1a1ec",
   "metadata": {},
   "source": [
    "# Retrieval of German Open Access repositories that hold software records"
   ]
  },
  {
   "cell_type": "markdown",
   "id": "33109e56-85cf-4f53-9228-eb9fa2abc7eb",
   "metadata": {},
   "source": [
    "This notebook retrieves all German Open Access repositories via Sherpa APIs, then checks against all of them if they contain software records."
   ]
  },
  {
   "cell_type": "code",
   "execution_count": 1,
   "id": "fbecc013-f040-40c4-a7f9-3c302205e674",
   "metadata": {
    "ExecuteTime": {
     "end_time": "2024-09-26T12:31:03.137652100Z",
     "start_time": "2024-09-26T12:31:03.120608500Z"
    }
   },
   "outputs": [],
   "source": [
    "import os\n",
    "\n",
    "from dotenv import load_dotenv\n",
    "\n",
    "# Prepare the Sherpa API key\n",
    "load_dotenv()\n",
    "\n",
    "SHERPA_TOKEN = os.getenv(\"SHERPA_TOKEN\")\n",
    "\n",
    "assert len(SHERPA_TOKEN) > 0"
   ]
  },
  {
   "cell_type": "markdown",
   "id": "c32d9fa6-01f6-4f5e-8e76-2a787432f1ab",
   "metadata": {},
   "source": [
    "First, we need to get all German open access repositories from the Sherpa API."
   ]
  },
  {
   "cell_type": "code",
   "execution_count": 2,
   "id": "7adf2b26-2233-4dcc-b4bb-eb8f607273c6",
   "metadata": {
    "ExecuteTime": {
     "end_time": "2024-09-26T12:31:08.144340100Z",
     "start_time": "2024-09-26T12:31:03.136144900Z"
    }
   },
   "outputs": [],
   "source": [
    "import json\n",
    "import requests\n",
    "\n",
    "endpoint = \"https://v2.sherpa.ac.uk/cgi/retrieve\"\n",
    "typ = \"repository\"\n",
    "fmt = \"Json\"\n",
    "lmt = 100\n",
    "flt = \"[[\\\"country\\\",\\\"equals\\\",\\\"de\\\"]]\"\n",
    "srt = \"id\"\n",
    "\n",
    "base_query = f\"{endpoint}?item-type={typ}&api-key={SHERPA_TOKEN}&format={fmt}&limit={lmt}&filter={flt}&order={srt}\"\n",
    "\n",
    "offset = 0\n",
    "\n",
    "repos_de = []\n",
    "\n",
    "for offset in range(20):\n",
    "  off = offset * 100  # For paging through result with limit = 100\n",
    "  resp = requests.get(base_query + f\"&offset={off}\")\n",
    "\n",
    "  if resp.status_code == 200:\n",
    "    data = resp.json()\n",
    "    if len(data[\"items\"]) == 0:\n",
    "      break\n",
    "    else:\n",
    "      repos_de.extend(data[\"items\"])"
   ]
  },
  {
   "cell_type": "markdown",
   "source": [
    "Now we have a list of German open access repositories saved in `repos_de`.\n",
    "\n",
    "For each repository, we are interested in:\n",
    "\n",
    "- its name\n",
    "- its type (one of `undetermined`, `institutional`, `disciplinary`, `aggregating`, `governmental`)\n",
    "- its URL\n",
    "- the URL of its primary OAI interface\n",
    "- the software it uses\n",
    "- its content types (e.g., does it have any of the relevant `software`, `datasets`, `other_special_item_types`)\n",
    "- its content subjects\n",
    "\n",
    "We can now reduce the data to just those we are interested in:\n",
    "\n",
    "- Relevant repository types: any that are not `aggregating`\n",
    "- Repositories that contain one or more of the relevant content types\n",
    "- Only the data points we care for"
   ],
   "metadata": {
    "collapsed": false
   },
   "id": "4cb94f09fbf353a7"
  },
  {
   "cell_type": "code",
   "execution_count": 3,
   "outputs": [],
   "source": [
    "relevant_content_types = {\"software\", \"datasets\", \"other_special_item_types\"}\n",
    "\n",
    "relevant_repos = []\n",
    "\n",
    "for repo in repos_de:\n",
    "  metadata = repo[\"repository_metadata\"]\n",
    "  if metadata[\"type\"] == \"aggregating\":\n",
    "    continue\n",
    "  if \"software\" not in metadata[\"content_types\"]:\n",
    "    continue\n",
    "  else:\n",
    "    name = metadata[\"name\"][0][\"name\"]\n",
    "    oai_url = metadata[\"oai_url\"] if \"oai_url\" in metadata else None\n",
    "    repo_data = {\n",
    "      \"name\": name,\n",
    "      \"type\": metadata[\"type\"], \n",
    "      \"url\": metadata[\"url\"], \n",
    "      \"oai_url\": oai_url,\n",
    "      \"software\": metadata[\"software\"],\n",
    "      \"content_types\": metadata[\"content_types\"],\n",
    "      \"subjects\": metadata[\"content_subjects\"]\n",
    "    }\n",
    "    relevant_repos.append(repo_data)"
   ],
   "metadata": {
    "collapsed": false,
    "ExecuteTime": {
     "end_time": "2024-09-26T12:31:08.157146900Z",
     "start_time": "2024-09-26T12:31:08.150524400Z"
    }
   },
   "id": "85f8375511105083"
  },
  {
   "cell_type": "markdown",
   "source": [
    "Now we have a list of relevant repositories in `relevant_repos`.\n",
    "\n",
    "Print them, sorted by type, then software. "
   ],
   "metadata": {
    "collapsed": false
   },
   "id": "b9694584d0f3c5f2"
  },
  {
   "cell_type": "code",
   "execution_count": 4,
   "outputs": [
    {
     "name": "stdout",
     "output_type": "stream",
     "text": [
      "institutional\n",
      "     dspace\n",
      "         DaKS - University of Kassel's research data repository  --  https://daks.uni-kassel.de/  --  ['datasets', 'software']\n",
      "     other\n",
      "         UFZ - Publikationsverzeichnis  --  http://www.ufz.de/publikationen  --  ['datasets', 'software']\n",
      "     dspace_cris\n",
      "         REPOSIT  --  https://reposit.haw-hamburg.de/  --  ['datasets', 'software', 'other_special_item_types']\n",
      "     eprints\n",
      "         Open Access LMU  --  http://epub.ub.uni-muenchen.de/  --  ['software', 'other_special_item_types']\n",
      "     mycore\n",
      "         Duisburg-Essen Publications Online  --  https://duepublico2.uni-due.de  --  ['datasets', 'software', 'other_special_item_types']\n",
      "disciplinary\n",
      "     dspace\n",
      "         PsychArchives  --  https://www.psycharchives.org/  --  ['datasets', 'software', 'other_special_item_types']\n",
      "     other\n",
      "     dspace_cris\n",
      "     eprints\n",
      "     mycore\n",
      "         KartDok - Cartography Repository  --  https://kartdok.staatsbibliothek-berlin.de/  --  ['datasets', 'software', 'other_special_item_types']\n"
     ]
    }
   ],
   "source": [
    "def create_nested_dict(set1, set2):\n",
    "    result = {}\n",
    "    for item1 in set1:\n",
    "        result[item1] = {item2: None for item2 in set2}\n",
    "    return result\n",
    "\n",
    "types = {r[\"type\"] for r in relevant_repos}\n",
    "software = {r[\"software\"][\"name\"] for r in relevant_repos}\n",
    "data = create_nested_dict(types, software)\n",
    "\n",
    "for repo in relevant_repos:\n",
    "    data[repo[\"type\"]][repo[\"software\"][\"name\"]] = [repo[\"name\"], repo[\"url\"], [ct for ct in repo[\"content_types\"] if ct in relevant_content_types]]\n",
    "    \n",
    "for t in data:\n",
    "    print(t)\n",
    "    for s in data[t]:\n",
    "        print(\" \" * 4, s)\n",
    "        r = data[t][s]\n",
    "        if r is not None:\n",
    "            print(\" \" * 8, r[0], \" -- \", r[1], \" -- \", r[2])"
   ],
   "metadata": {
    "collapsed": false,
    "ExecuteTime": {
     "end_time": "2024-09-26T12:31:08.166886300Z",
     "start_time": "2024-09-26T12:31:08.159278700Z"
    }
   },
   "id": "336fa3ce53b7e44f"
  }
 ],
 "metadata": {
  "kernelspec": {
   "display_name": "Python 3 (ipykernel)",
   "language": "python",
   "name": "python3"
  },
  "language_info": {
   "codemirror_mode": {
    "name": "ipython",
    "version": 3
   },
   "file_extension": ".py",
   "mimetype": "text/x-python",
   "name": "python",
   "nbconvert_exporter": "python",
   "pygments_lexer": "ipython3",
   "version": "3.12.3"
  }
 },
 "nbformat": 4,
 "nbformat_minor": 5
}
