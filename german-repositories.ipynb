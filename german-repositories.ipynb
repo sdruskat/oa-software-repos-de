{
 "cells": [
  {
   "cell_type": "markdown",
   "id": "997466c4-df37-4f83-b7e3-55b31ec1a1ec",
   "metadata": {},
   "source": [
    "# Retrieval of German Open Access repositories that hold software records"
   ]
  },
  {
   "cell_type": "markdown",
   "id": "33109e56-85cf-4f53-9228-eb9fa2abc7eb",
   "metadata": {},
   "source": [
    "This notebook retrieves all German Open Access repositories via Sherpa APIs, then checks against all of them if they contain software records."
   ]
  },
  {
   "cell_type": "code",
   "execution_count": null,
   "id": "fbecc013-f040-40c4-a7f9-3c302205e674",
   "metadata": {},
   "outputs": [],
   "source": []
  }
 ],
 "metadata": {
  "kernelspec": {
   "display_name": "Python 3 (ipykernel)",
   "language": "python",
   "name": "python3"
  },
  "language_info": {
   "codemirror_mode": {
    "name": "ipython",
    "version": 3
   },
   "file_extension": ".py",
   "mimetype": "text/x-python",
   "name": "python",
   "nbconvert_exporter": "python",
   "pygments_lexer": "ipython3",
   "version": "3.12.3"
  }
 },
 "nbformat": 4,
 "nbformat_minor": 5
}
